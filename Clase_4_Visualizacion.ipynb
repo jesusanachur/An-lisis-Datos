{
 "cells": [
  {
   "cell_type": "code",
   "execution_count": null,
   "metadata": {},
   "outputs": [],
   "source": [
    "import pandas as pd\n",
    "import numpy as np\n",
    "import matplotlib.pyplot as plt\n",
    "import seaborn  as sns\n",
    "import plotly.express as px"
   ]
  },
  {
   "cell_type": "code",
   "execution_count": 19,
   "metadata": {},
   "outputs": [
    {
     "data": {
      "text/html": [
       "<div>\n",
       "<style scoped>\n",
       "    .dataframe tbody tr th:only-of-type {\n",
       "        vertical-align: middle;\n",
       "    }\n",
       "\n",
       "    .dataframe tbody tr th {\n",
       "        vertical-align: top;\n",
       "    }\n",
       "\n",
       "    .dataframe thead th {\n",
       "        text-align: right;\n",
       "    }\n",
       "</style>\n",
       "<table border=\"1\" class=\"dataframe\">\n",
       "  <thead>\n",
       "    <tr style=\"text-align: right;\">\n",
       "      <th></th>\n",
       "      <th>ID</th>\n",
       "      <th>Nombre</th>\n",
       "      <th>Departamento</th>\n",
       "      <th>Salario Base</th>\n",
       "      <th>BonificaciÃ³n</th>\n",
       "      <th>Fecha de Ingreso</th>\n",
       "    </tr>\n",
       "  </thead>\n",
       "  <tbody>\n",
       "    <tr>\n",
       "      <th>0</th>\n",
       "      <td>1</td>\n",
       "      <td>Empleado_1</td>\n",
       "      <td>RRHH</td>\n",
       "      <td>10777.0</td>\n",
       "      <td>2215</td>\n",
       "      <td>2010-10-07</td>\n",
       "    </tr>\n",
       "    <tr>\n",
       "      <th>1</th>\n",
       "      <td>2</td>\n",
       "      <td>Empleado_2</td>\n",
       "      <td>Marketing</td>\n",
       "      <td>3197.0</td>\n",
       "      <td>4354</td>\n",
       "      <td>2014-12-07</td>\n",
       "    </tr>\n",
       "    <tr>\n",
       "      <th>2</th>\n",
       "      <td>3</td>\n",
       "      <td>Empleado_3</td>\n",
       "      <td>Finanzas</td>\n",
       "      <td>10125.0</td>\n",
       "      <td>2991</td>\n",
       "      <td>2018-02-02</td>\n",
       "    </tr>\n",
       "    <tr>\n",
       "      <th>3</th>\n",
       "      <td>4</td>\n",
       "      <td>Empleado_4</td>\n",
       "      <td>Marketing</td>\n",
       "      <td>4930.0</td>\n",
       "      <td>3160</td>\n",
       "      <td>2023-08-30</td>\n",
       "    </tr>\n",
       "    <tr>\n",
       "      <th>4</th>\n",
       "      <td>5</td>\n",
       "      <td>Empleado_5</td>\n",
       "      <td>Marketing</td>\n",
       "      <td>14774.0</td>\n",
       "      <td>3624</td>\n",
       "      <td>2022-04-18</td>\n",
       "    </tr>\n",
       "    <tr>\n",
       "      <th>...</th>\n",
       "      <td>...</td>\n",
       "      <td>...</td>\n",
       "      <td>...</td>\n",
       "      <td>...</td>\n",
       "      <td>...</td>\n",
       "      <td>...</td>\n",
       "    </tr>\n",
       "    <tr>\n",
       "      <th>195</th>\n",
       "      <td>196</td>\n",
       "      <td>Empleado_196</td>\n",
       "      <td>Finanzas</td>\n",
       "      <td>6769.0</td>\n",
       "      <td>2031</td>\n",
       "      <td>2014-06-08</td>\n",
       "    </tr>\n",
       "    <tr>\n",
       "      <th>196</th>\n",
       "      <td>197</td>\n",
       "      <td>Empleado_197</td>\n",
       "      <td>Finanzas</td>\n",
       "      <td>3574.0</td>\n",
       "      <td>3940</td>\n",
       "      <td>2021-07-07</td>\n",
       "    </tr>\n",
       "    <tr>\n",
       "      <th>197</th>\n",
       "      <td>198</td>\n",
       "      <td>Empleado_198</td>\n",
       "      <td>Ventas</td>\n",
       "      <td>14453.0</td>\n",
       "      <td>1323</td>\n",
       "      <td>2007-06-19</td>\n",
       "    </tr>\n",
       "    <tr>\n",
       "      <th>198</th>\n",
       "      <td>199</td>\n",
       "      <td>Empleado_199</td>\n",
       "      <td>Marketing</td>\n",
       "      <td>4148.0</td>\n",
       "      <td>1428</td>\n",
       "      <td>2017-03-14</td>\n",
       "    </tr>\n",
       "    <tr>\n",
       "      <th>199</th>\n",
       "      <td>200</td>\n",
       "      <td>Empleado_200</td>\n",
       "      <td>RRHH</td>\n",
       "      <td>9293.0</td>\n",
       "      <td>633</td>\n",
       "      <td>2013-01-26</td>\n",
       "    </tr>\n",
       "  </tbody>\n",
       "</table>\n",
       "<p>200 rows × 6 columns</p>\n",
       "</div>"
      ],
      "text/plain": [
       "      ID        Nombre Departamento  Salario Base  BonificaciÃ³n  \\\n",
       "0      1    Empleado_1         RRHH       10777.0           2215   \n",
       "1      2    Empleado_2    Marketing        3197.0           4354   \n",
       "2      3    Empleado_3     Finanzas       10125.0           2991   \n",
       "3      4    Empleado_4    Marketing        4930.0           3160   \n",
       "4      5    Empleado_5    Marketing       14774.0           3624   \n",
       "..   ...           ...          ...           ...            ...   \n",
       "195  196  Empleado_196     Finanzas        6769.0           2031   \n",
       "196  197  Empleado_197     Finanzas        3574.0           3940   \n",
       "197  198  Empleado_198       Ventas       14453.0           1323   \n",
       "198  199  Empleado_199    Marketing        4148.0           1428   \n",
       "199  200  Empleado_200         RRHH        9293.0            633   \n",
       "\n",
       "    Fecha de Ingreso  \n",
       "0         2010-10-07  \n",
       "1         2014-12-07  \n",
       "2         2018-02-02  \n",
       "3         2023-08-30  \n",
       "4         2022-04-18  \n",
       "..               ...  \n",
       "195       2014-06-08  \n",
       "196       2021-07-07  \n",
       "197       2007-06-19  \n",
       "198       2017-03-14  \n",
       "199       2013-01-26  \n",
       "\n",
       "[200 rows x 6 columns]"
      ]
     },
     "execution_count": 19,
     "metadata": {},
     "output_type": "execute_result"
    }
   ],
   "source": [
    "ruta =r\"C:\\Users\\DELL\\Downloads\\dataset_empleados.xlsx\"\n",
    "df =pd.read_excel(ruta)\n",
    "df"
   ]
  },
  {
   "cell_type": "code",
   "execution_count": null,
   "metadata": {},
   "outputs": [
    {
     "data": {
      "text/plain": [
       "np.float64(8824.633165829146)"
      ]
     },
     "execution_count": 20,
     "metadata": {},
     "output_type": "execute_result"
    }
   ],
   "source": [
    "df[\"Salario Base\"].mean()\n"
   ]
  },
  {
   "cell_type": "code",
   "execution_count": 17,
   "metadata": {},
   "outputs": [
    {
     "data": {
      "text/plain": [
       "np.float64(8824.633165829146)"
      ]
     },
     "execution_count": 17,
     "metadata": {},
     "output_type": "execute_result"
    }
   ],
   "source": [
    "df"
   ]
  },
  {
   "cell_type": "code",
   "execution_count": 21,
   "metadata": {},
   "outputs": [
    {
     "data": {
      "text/plain": [
       "np.float64(14983.0)"
      ]
     },
     "execution_count": 21,
     "metadata": {},
     "output_type": "execute_result"
    }
   ],
   "source": [
    "df[\"Salario Base\"].max()"
   ]
  },
  {
   "cell_type": "code",
   "execution_count": 22,
   "metadata": {},
   "outputs": [
    {
     "name": "stdout",
     "output_type": "stream",
     "text": [
      "El rango de los salarios es:  11885.0\n"
     ]
    }
   ],
   "source": [
    "range = df[\"Salario Base\"].max() - df[\"Salario Base\"].min()\n",
    "print(\"El rango de los salarios es: \", range)\n"
   ]
  }
 ],
 "metadata": {
  "kernelspec": {
   "display_name": "Python 3",
   "language": "python",
   "name": "python3"
  },
  "language_info": {
   "codemirror_mode": {
    "name": "ipython",
    "version": 3
   },
   "file_extension": ".py",
   "mimetype": "text/x-python",
   "name": "python",
   "nbconvert_exporter": "python",
   "pygments_lexer": "ipython3",
   "version": "3.11.9"
  }
 },
 "nbformat": 4,
 "nbformat_minor": 2
}
